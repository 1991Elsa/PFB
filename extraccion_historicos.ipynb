{
 "cells": [
  {
   "cell_type": "code",
   "execution_count": 1,
   "id": "2ae75de9-d354-47c4-8db6-11537d86aa21",
   "metadata": {},
   "outputs": [],
   "source": [
    "import yfinance as yf\n",
    "import time\n",
    "from datetime import datetime\n",
    "import pandas as pd\n",
    "import numpy as np\n",
    "import mplfinance as mpf"
   ]
  },
  {
   "cell_type": "code",
   "execution_count": null,
   "id": "2345c712-6b6f-49c9-8bd2-0f46503cd102",
   "metadata": {},
   "outputs": [],
   "source": [
    "def get_datos_historicos(nasdaq_tickers):\n",
    "    \n",
    "    start_date = \"2019-12-31\"\n",
    "    end_date = datetime.now().strftime('%Y-%m-%d')\n",
    "\n",
    "    datos = yf.download(nasdaq_tickers, start=start_date, end=end_date, progress=False, group_by=\"ticker\")\n",
    "\n",
    "    if isinstance(datos.columns, pd.MultiIndex):\n",
    "        datos.columns = ['_'.join(col).strip() for col in datos.columns]\n",
    "\n",
    "    datos = datos.copy()\n",
    "    datos.reset_index(inplace=True)\n",
    "\n",
    "    datos = datos.melt(id_vars=['Date'], var_name=\"Variable\", value_name=\"Valor\")\n",
    "\n",
    "    datos[['Ticker', 'Metric']] = datos['Variable'].str.rsplit('_', n=1, expand=True)\n",
    "\n",
    "    datos = datos.pivot(index=['Date', 'Ticker'], columns='Metric', values='Valor').reset_index()\n",
    "\n",
    "    return datos\n",
    "\n",
    "#Por si quereis probarla:\n",
    "datos_historicos = get_datos_historicos(nasdaq_tickers)\n",
    "datos_historicos.head()"
   ]
  },
  {
   "cell_type": "code",
   "execution_count": null,
   "id": "06e79568-3def-4a7f-b0b0-1adacd5e3201",
   "metadata": {},
   "outputs": [],
   "source": []
  },
  {
   "cell_type": "code",
   "execution_count": null,
   "id": "bd800f4a-5ad9-45df-87b0-7f19d15bb6ff",
   "metadata": {},
   "outputs": [],
   "source": []
  }
 ],
 "metadata": {
  "kernelspec": {
   "display_name": "Python 3 (ipykernel)",
   "language": "python",
   "name": "python3"
  },
  "language_info": {
   "codemirror_mode": {
    "name": "ipython",
    "version": 3
   },
   "file_extension": ".py",
   "mimetype": "text/x-python",
   "name": "python",
   "nbconvert_exporter": "python",
   "pygments_lexer": "ipython3",
   "version": "3.12.4"
  }
 },
 "nbformat": 4,
 "nbformat_minor": 5
}
